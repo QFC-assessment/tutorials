{
  "cells": [
    {
      "cell_type": "raw",
      "metadata": {},
      "source": [
        "---\n",
        "title: \"Jitter tests in ADMB using R\"\n",
        "---"
      ],
      "id": "e7924629"
    },
    {
      "cell_type": "markdown",
      "metadata": {},
      "source": [
        "This tutorial will walk through how to conduct a jitter test in ADMB. The fastest way to run a jitter test in ADMB is to run it through R so you do not need to manually change the initial parameter values each iteration. However, this will require some extra steps to set up your code in both ADMB and R.\n",
        "\n",
        "## admb2r.cpp instructions\n",
        "\n",
        "This tutorial (and the most of the stock assessment models in the Great Lakes region) requires this package called \"admb2r\". This is a collection of AD Model Builder routines for saving complex data structures into a file that can be read into R. This cannot be automatically downloaded in the newer ADMB versions. You can keep a \"admb2r.cpp\" file where your .tpl and .dat files are, however that requires copying and pasting it every time you want to run a ADMB model.\n",
        "\n",
        " \n",
        "\n",
        "These are instructions for using admb2r.cpp permanently. Copy admb2r.cpp to both the following folders:\n",
        "\n",
        "-   admb/include\n",
        "\n",
        "-   admb/include/contrib\n",
        "\n",
        " \n",
        "\n",
        "A copy of admb2r.cpp is [here](https://github.com/admb-project/admb/blob/main/contrib/admb2r/admb2r.cpp). Once this is done you will not need to add admb2r.cpp to every project folder. This has been tested on Linux Mint, Windows, and Mac.\n",
        "\n",
        "## R helper functions\n",
        "\n",
        "You will need these helper files to run ADMB through R.\n",
        "\n",
        "-   [base_funs.r](https://github.com/lidach/addtools/blob/main/R/base_funs.r) - this contains three functions to read and compile a ADMB executable and run the ADMB model\n",
        "\n",
        "    -   `compile_admb()`\n",
        "\n",
        "    -   `read_admb()`\n",
        "\n",
        "    -   `run_admb()`\n",
        "\n",
        "-   [clean_admb.r](https://github.com/lidach/addtools/blob/main/R/clean_admb.r) - after you are done running your model, this will clean all the additional ADMB files in your directory.\n",
        "\n",
        "## Set up ADMB\n",
        "\n",
        "First you will need to modify your ADMB code. If possible, you should download the most recent ADMB version [here](https://www.admb-project.org/). This recent version will print out additional error messages and allow you to run additional functions (like `get_hessian()`). In this tutorial, we will look at a surplus production model:\n",
        "\n",
        "```{c++, eval = FALSE}\n",
        "\n",
        "```\n",
        "\n",
        "### DATA_SECTION\n",
        "\n",
        "You will need to use this command:\n",
        "\n",
        "\n",
        "```{Rcpp, eval = FALSE}\n",
        "!! ad_com::change_datafile_name(\"param_name.dat\");\n",
        "  init_number inparam_name;\n",
        "```\n",
        "\n",
        "\n",
        "## Set up R"
      ],
      "id": "5677e0e6"
    }
  ],
  "metadata": {
    "kernelspec": {
      "display_name": "Python 3",
      "language": "python",
      "name": "python3"
    }
  },
  "nbformat": 4,
  "nbformat_minor": 5
}